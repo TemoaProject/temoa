{
 "cells": [
  {
   "cell_type": "markdown",
   "source": [
    "## Loan Costing Discussion\n",
    "This example uses the cost formulae from the `temoa_rules.py` file in order to verify costs used for loan.  The Temoa dox for the loan cost explain the original formula fairly well.  The original pointer to the formula is from Kevin Hunter et. all paper in ~2013.  See equation (15) on the included document and description.  Of particular note, that document uses the loan lifetime in a few spots, and somewhere along the way the tech lifetime crept into the formula in the form of the `lifetime_process` variable, which seems like a mistake\n",
    "\n"
   ],
   "metadata": {
    "collapsed": false
   },
   "id": "54ecbe852dc90f38"
  },
  {
   "cell_type": "markdown",
   "source": [
    "### Key Questions:\n",
    "1. What is `discount_rate`?  It looks and smells like the loan rate.  The dox are just wrong.\n",
    "2. Is the inclusion of the process lifetime in the loan cost calculation a typo?  Seems it should be loan life across the board\n",
    "3. Is the approach to undiscounted correct?\n",
    "4. It is unclear what the plan is for \"hurdle rate\" -- and if any support from me is needed on that\n",
    "\n",
    "### Ponderings...\n",
    "- Note that in none of these approaches renders the \"full cost\" of a scenario visible because of the eclipsing effect of the end of the window in perfect foresight or the end of the shorter myopic windows.\n",
    "- A corollary of that (that I stumbled into the other day during testing) is that it is impossible to compare costs when using different myopic view depths.  More clearly:  When I changed from a view depth of 1 to 2 (seeing further into the future), I expected cost to go down--as they should--but they went up, which is attributable to having more of the loan lives visible to the calculation.  This may/may not be important to the team.  It is just an observation.\n",
    "- It wouldn't be too much work to enable a 3rd mode for these to calculate the \"full cost\" by making the windowing feature conditional on some flag."
   ],
   "metadata": {
    "collapsed": false
   },
   "id": "8bb6c026095b6680"
  },
  {
   "cell_type": "markdown",
   "source": [
    "### Desired outcome:\n",
    "- Concurrence or edits to formulae\n",
    "- About 4 test values that I can incorporate into unit tests that exercise the discount rate, GDR, and eclipsing effect of the period end, and discounted/undiscounted test values (similar to what is used below)"
   ],
   "metadata": {
    "collapsed": false
   },
   "id": "fcf4ce5e6305e7ef"
  },
  {
   "cell_type": "markdown",
   "source": [
    "### Formulae\n",
    "The below 2 formulae are the current implementations in the model that I have extracted out of the cost computation so that they can be used both by the model and in post-processing--basically single-sourcing the formula.  It was replicated in several areas before, which is an invitation for problems."
   ],
   "metadata": {
    "collapsed": false
   },
   "id": "e706138552927b3c"
  },
  {
   "cell_type": "markdown",
   "source": [
    "### Notes:  \n",
    "#### \"Undiscounted\" cost\n",
    "This was previously calculated in post-processing (not used at all in the model) was pretty wonky.  I have disregarded it and I think the below is a better place to **start** the discussion.  The intent of the fomula for loan_cost is to produce a undiscounted cost when GDR==0.\n",
    "#### discount_rate\n",
    "I have not renamed this, but this is central to the discussion.  It is applied as and probably should be renamed as the `loan_rate`.  TBD on how you want to handle \"hurdle rate.\"\n"
   ],
   "metadata": {
    "collapsed": false
   },
   "id": "2fe340463d16c00b"
  },
  {
   "cell_type": "code",
   "source": [
    "from pyomo.environ import Var, Expression"
   ],
   "metadata": {
    "collapsed": false,
    "ExecuteTime": {
     "end_time": "2024-04-09T20:34:40.165454Z",
     "start_time": "2024-04-09T20:34:40.163675Z"
    }
   },
   "id": "6786fe13296c8574",
   "outputs": [],
   "execution_count": 14
  },
  {
   "cell_type": "code",
   "source": [
    "def loan_annualization_rate(loan_rate: float | None, loan_life: int | float) -> float:\n",
    "    \"\"\"\n",
    "    This calculation is broken out specifically so that it can be used for param creation\n",
    "    and separately to calculate loan costs rather than rely on fully-built model parameters\n",
    "    :param loan_rate:  The loan rate\n",
    "    :param loan_life:  The term (years) of the loan\n",
    "\n",
    "    \"\"\"\n",
    "    if not loan_rate:\n",
    "        # dev note:  this should not be needed as the LoanRate param has a default (see the definition)\n",
    "        return 1.0 / loan_life\n",
    "    annualized_rate = loan_rate / (1.0 - (1.0 + loan_rate) ** (-loan_life))\n",
    "    return annualized_rate"
   ],
   "metadata": {
    "collapsed": false,
    "ExecuteTime": {
     "end_time": "2024-04-09T20:34:40.178102Z",
     "start_time": "2024-04-09T20:34:40.176150Z"
    }
   },
   "id": "6fc96307ef6013fb",
   "outputs": [],
   "execution_count": 15
  },
  {
   "cell_type": "code",
   "source": [
    "def loan_cost(\n",
    "    capacity: float | Var,\n",
    "    invest_cost: float,\n",
    "    loan_annualize: float,\n",
    "    lifetime_loan_process: float | int,\n",
    "    P_0: int,\n",
    "    P_e: int,\n",
    "    GDR: float,\n",
    "    vintage: int,\n",
    ") -> float | Expression:\n",
    "    \"\"\"\n",
    "    function to calculate the loan cost.  It can be used with fixed values to produce a hard number or\n",
    "    pyomo variables/params to make a pyomo Expression\n",
    "    :param capacity: The capacity to use to calculate cost\n",
    "    :param invest_cost: the cost/capacity\n",
    "    :param loan_annualize: parameter\n",
    "    :param lifetime_loan_process: lifetime of the loan\n",
    "    :param P_0: the year to discount the costs back to\n",
    "    :param P_e: the 'end year' or cutoff year for loan payments\n",
    "    :param GDR: Global Discount Rate\n",
    "    :param vintage: the base year of the loan\n",
    "    :return: fixed number or pyomo expression based on input types\n",
    "    \"\"\"\n",
    "    if GDR == 0:  # return the non-discounted result\n",
    "        regular_payment = capacity * invest_cost * loan_annualize\n",
    "        payments_made = min(lifetime_loan_process, P_e - vintage)\n",
    "        return regular_payment * payments_made\n",
    "    x = 1 + GDR  # a convenience\n",
    "    res = (\n",
    "        capacity\n",
    "        * (\n",
    "            invest_cost\n",
    "            * loan_annualize\n",
    "            * (\n",
    "                lifetime_loan_process\n",
    "                if not GDR\n",
    "                else (x ** (P_0 - vintage + 1) * (1 - x ** (-lifetime_loan_process)) / GDR)\n",
    "            )\n",
    "        )\n",
    "        * (\n",
    "            (1 - x ** (-min(lifetime_loan_process, P_e - vintage)))\n",
    "            / (1 - x ** (-lifetime_loan_process))\n",
    "        )\n",
    "    )\n",
    "    return res"
   ],
   "metadata": {
    "collapsed": false,
    "ExecuteTime": {
     "end_time": "2024-04-09T20:34:40.218556Z",
     "start_time": "2024-04-09T20:34:40.193819Z"
    }
   },
   "id": "44ece17e11ca078a",
   "outputs": [],
   "execution_count": 16
  },
  {
   "cell_type": "markdown",
   "source": [
    "### Exemplar tech data\n",
    "Consider an anonymous `tech` in a myopic run with periods @ 5 year increments [2020, 2050] and a myopic view of 1 period at a time.\n",
    "In the myopic window 2030 -> 2035 a decision is made to build 100K capacity units:\n"
   ],
   "metadata": {
    "collapsed": false
   },
   "id": "bf57ce2583a5b515"
  },
  {
   "cell_type": "code",
   "source": [
    "capacity = 100_000 # units\n",
    "cost_invest = 1    # $/unit of capacity\n",
    "loan_life = 40\n",
    "loan_rate = 0.08\n",
    "GDR = 0.05\n",
    "tech_lifetime = 50\n",
    "base_year = 2020   # the \"myopic base year\" to which all prices are discounted\n",
    "vintage = 2030     # the vintage of the new 'tech'\n",
    "window_end = 2035  # last year in the myopic view"
   ],
   "metadata": {
    "collapsed": false,
    "ExecuteTime": {
     "end_time": "2024-04-09T20:34:40.221183Z",
     "start_time": "2024-04-09T20:34:40.219509Z"
    }
   },
   "id": "ce1bcf1453d44d6",
   "outputs": [],
   "execution_count": 17
  },
  {
   "cell_type": "markdown",
   "source": [
    "#### We need LoanAnnualize...\n",
    "LoanAnnualize is a model parameter that is computed within the model using the discount rate specific to that process.  I have also \"extracted the math\" to a separate function that can is also dual-use (making the parameter, or externally producing a hard number)\n"
   ],
   "metadata": {
    "collapsed": false
   },
   "id": "58218ee0e550b94a"
  },
  {
   "cell_type": "code",
   "source": "loan_annualize = loan_annualization_rate(loan_rate=loan_rate, loan_life=loan_life)",
   "metadata": {
    "collapsed": false,
    "ExecuteTime": {
     "end_time": "2024-04-09T20:34:40.223325Z",
     "start_time": "2024-04-09T20:34:40.221840Z"
    }
   },
   "id": "a790bdc43d4fb128",
   "outputs": [],
   "execution_count": 18
  },
  {
   "cell_type": "code",
   "source": [
    "print(f\"Loan annualization rate: {loan_annualize:0.4f}\")"
   ],
   "metadata": {
    "collapsed": false,
    "ExecuteTime": {
     "end_time": "2024-04-09T20:34:40.225797Z",
     "start_time": "2024-04-09T20:34:40.224302Z"
    }
   },
   "id": "ee945bc2df5c8f70",
   "outputs": [
    {
     "name": "stdout",
     "output_type": "stream",
     "text": [
      "Loan annualization rate: 0.0839\n"
     ]
    }
   ],
   "execution_count": 19
  },
  {
   "cell_type": "code",
   "source": [
    "cost = loan_cost(\n",
    "    capacity=capacity,\n",
    "    invest_cost=cost_invest,\n",
    "    loan_annualize=loan_annualize,\n",
    "    lifetime_loan_process=loan_life,\n",
    "    P_0=base_year,\n",
    "    P_e=window_end,\n",
    "    GDR=GDR,\n",
    "    vintage=vintage\n",
    ")"
   ],
   "metadata": {
    "collapsed": false,
    "ExecuteTime": {
     "end_time": "2024-04-09T20:34:40.227870Z",
     "start_time": "2024-04-09T20:34:40.226388Z"
    }
   },
   "id": "675f7cf04200c8f8",
   "outputs": [],
   "execution_count": 20
  },
  {
   "cell_type": "code",
   "source": [
    "print(f\"Loan cost: ${cost:,.2f}\")"
   ],
   "metadata": {
    "collapsed": false,
    "ExecuteTime": {
     "end_time": "2024-04-09T20:34:40.229793Z",
     "start_time": "2024-04-09T20:34:40.228285Z"
    }
   },
   "id": "3d6354622519237e",
   "outputs": [
    {
     "name": "stdout",
     "output_type": "stream",
     "text": [
      "Loan cost: $23,403.86\n"
     ]
    }
   ],
   "execution_count": 21
  },
  {
   "cell_type": "markdown",
   "source": [
    "#### And the Undiscounted ..."
   ],
   "metadata": {
    "collapsed": false
   },
   "id": "57e9ba26dccbcef7"
  },
  {
   "cell_type": "code",
   "source": [
    "undiscounted_cost = loan_cost(\n",
    "    capacity=capacity,\n",
    "    invest_cost=cost_invest,\n",
    "    loan_annualize=loan_annualize,\n",
    "    lifetime_loan_process=loan_life,\n",
    "    P_0=base_year,\n",
    "    P_e=window_end,\n",
    "    GDR=0,  # <-- override with a zero\n",
    "    vintage=vintage\n",
    ")"
   ],
   "metadata": {
    "collapsed": false,
    "ExecuteTime": {
     "end_time": "2024-04-09T20:34:40.232090Z",
     "start_time": "2024-04-09T20:34:40.230405Z"
    }
   },
   "id": "82b8f08bc0780562",
   "outputs": [],
   "execution_count": 22
  },
  {
   "cell_type": "code",
   "source": [
    "print(f\"Undiscounted Loan cost: ${undiscounted_cost:,.2f}\")"
   ],
   "metadata": {
    "collapsed": false,
    "ExecuteTime": {
     "end_time": "2024-04-09T20:34:40.234124Z",
     "start_time": "2024-04-09T20:34:40.232706Z"
    }
   },
   "id": "e99fb0c033558324",
   "outputs": [
    {
     "name": "stdout",
     "output_type": "stream",
     "text": [
      "Undiscounted Loan cost: $41,930.08\n"
     ]
    }
   ],
   "execution_count": 23
  },
  {
   "cell_type": "markdown",
   "source": [
    "### Are these correct?\n",
    "The end of the window is eclipsing most future payments.\n",
    "If the problem were \"perfect foresight\" then..."
   ],
   "metadata": {
    "collapsed": false
   },
   "id": "969780f884c44684"
  },
  {
   "cell_type": "code",
   "source": [
    "window_end = 2050  # overwrite the value of the window end\n",
    "\n",
    "cost = loan_cost(\n",
    "    capacity=capacity,\n",
    "    invest_cost=cost_invest,\n",
    "    loan_annualize=loan_annualize,\n",
    "    lifetime_loan_process=loan_life,\n",
    "    P_0=base_year,\n",
    "    P_e=window_end,\n",
    "    GDR=GDR,\n",
    "    vintage=vintage\n",
    ")\n",
    "print(f\"Loan cost: ${cost:,.2f}\")"
   ],
   "metadata": {
    "collapsed": false,
    "ExecuteTime": {
     "end_time": "2024-04-09T20:34:40.236367Z",
     "start_time": "2024-04-09T20:34:40.234543Z"
    }
   },
   "id": "63eaa2ed2074c123",
   "outputs": [
    {
     "name": "stdout",
     "output_type": "stream",
     "text": [
      "Loan cost: $67,366.98\n"
     ]
    }
   ],
   "execution_count": 24
  },
  {
   "cell_type": "markdown",
   "source": [
    "### Or if the end of the window exposed the entire loan life...\n"
   ],
   "metadata": {
    "collapsed": false
   },
   "id": "b1ebba20323f39c4"
  },
  {
   "cell_type": "code",
   "source": [
    "window_end = 2100 # override to expose full loan length\n",
    "\n",
    "cost = loan_cost(\n",
    "    capacity=capacity,\n",
    "    invest_cost=cost_invest,\n",
    "    loan_annualize=loan_annualize,\n",
    "    lifetime_loan_process=loan_life,\n",
    "    P_0=base_year,\n",
    "    P_e=window_end,\n",
    "    GDR=GDR,\n",
    "    vintage=vintage\n",
    ")\n",
    "print(f\"Loan cost: ${cost:,.2f}\")"
   ],
   "metadata": {
    "collapsed": false,
    "ExecuteTime": {
     "end_time": "2024-04-09T20:34:40.239344Z",
     "start_time": "2024-04-09T20:34:40.237873Z"
    }
   },
   "id": "1cee546365df4909",
   "outputs": [
    {
     "name": "stdout",
     "output_type": "stream",
     "text": [
      "Loan cost: $92,756.89\n"
     ]
    }
   ],
   "execution_count": 25
  },
  {
   "cell_type": "code",
   "source": [
    "undiscounted_cost = loan_cost(\n",
    "    capacity=capacity,\n",
    "    invest_cost=cost_invest,\n",
    "    loan_annualize=loan_annualize,\n",
    "    lifetime_loan_process=loan_life,\n",
    "    P_0=base_year,\n",
    "    P_e=window_end,\n",
    "    GDR=0,  # <-- set to zero\n",
    "    vintage=vintage\n",
    ")\n",
    "print(f\"Undiscounted Loan cost: ${undiscounted_cost:,.2f}\")"
   ],
   "metadata": {
    "collapsed": false,
    "ExecuteTime": {
     "end_time": "2024-04-09T20:34:40.241538Z",
     "start_time": "2024-04-09T20:34:40.239871Z"
    }
   },
   "id": "7a13599b5a10281",
   "outputs": [
    {
     "name": "stdout",
     "output_type": "stream",
     "text": [
      "Undiscounted Loan cost: $335,440.65\n"
     ]
    }
   ],
   "execution_count": 26
  }
 ],
 "metadata": {
  "kernelspec": {
   "display_name": "Python 3",
   "language": "python",
   "name": "python3"
  },
  "language_info": {
   "codemirror_mode": {
    "name": "ipython",
    "version": 2
   },
   "file_extension": ".py",
   "mimetype": "text/x-python",
   "name": "python",
   "nbconvert_exporter": "python",
   "pygments_lexer": "ipython2",
   "version": "2.7.6"
  }
 },
 "nbformat": 4,
 "nbformat_minor": 5
}
